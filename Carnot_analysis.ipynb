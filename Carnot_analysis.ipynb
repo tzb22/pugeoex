{
 "cells": [
  {
   "cell_type": "code",
   "execution_count": 47,
   "metadata": {},
   "outputs": [],
   "source": [
    "#this code will be very similar to my other set of cop analysis code\n",
    "\n",
    "#this code will calculate the estimated cop of geothermal test wells on princeton's campus\n",
    "#the Q_in of this program will be the amount of heat provided by the total steam used by campus\n",
    "#for the whole year of 2019\n",
    "import sys\n",
    "sys.path\n",
    "import pandas as pd\n",
    "import numpy as np"
   ]
  },
  {
   "cell_type": "code",
   "execution_count": 48,
   "metadata": {},
   "outputs": [
    {
     "name": "stdout",
     "output_type": "stream",
     "text": [
      "613801.1183643142\n"
     ]
    }
   ],
   "source": [
    "#first Q will be calculated by pulling the data from the campus-2019 csv files\n",
    "#this will be done by creating an array which stores the data from the Plant.i.Campus_STMF_kpph column\n",
    "#and in turn pulling data from each campus energy csv for months 1 through 12 for the array\n",
    "\n",
    "steam_tot_phour=[]\n",
    "for k in range(1,13):\n",
    "    df_campus = pd.read_csv (\"/Users/tajjahnae/chaos_project/campus-2019-\" + str(k) + \".csv\")\n",
    "    for i in range(1,len(df_campus.index)):\n",
    "        if(df_campus.iat[i,10]!='None'):\n",
    "            steam_tot_phour.append(df_campus.iat[i,10])\n",
    "            \n",
    "for i in range(len(steam_tot_phour)):\n",
    "    steam_tot_phour[i]=float(steam_tot_phour[i])\n",
    "    \n",
    "Q=sum(steam_tot_phour)\n",
    "print(Q)"
   ]
  },
  {
   "cell_type": "code",
   "execution_count": 49,
   "metadata": {},
   "outputs": [
    {
     "name": "stdout",
     "output_type": "stream",
     "text": [
      "1867.3384312014443\n"
     ]
    }
   ],
   "source": [
    "#convert Q from kpph to kw\n",
    "#according to tiger energy 200,000 kpph of steam is approx 237,000,000 BTU/hr which can then be converted\n",
    "# to 69457.836163 kw. \n",
    "Q_kw=(Q*69457.836163)/(200000)\n",
    "#convert Q_kw to GWh since there are 8760 hours in a year\n",
    "Q_gwh=(Q_kw*8760)*(0.0000010)\n",
    "print(Q_gwh)"
   ]
  },
  {
   "cell_type": "code",
   "execution_count": 50,
   "metadata": {},
   "outputs": [],
   "source": [
    "#let's calculate the ideal cop of heating using carnot efficiency=T_h/(T_h-T_c) where T_h is the hot temp\n",
    "#being pumped into the well and T_c is the cold temp being extracted from the geo well \n",
    "\n",
    "#the input T_h is in farenheight. convert to celsius and then to kelvin\n",
    "T_h=150 \n",
    "T_h=(T_h-32)*5/9\n",
    "T_h=T_h+273.15\n",
    "\n",
    "#from the pre trt test tempertatures taken of a well in princeton T_c can be estimated to around 57 degrees\n",
    "#farienheight. this input can be changed. repeat the same process to convert to kelvin\n",
    "T_c=57\n",
    "T_c=(T_c-32)*5/9\n",
    "T_c=T_c+273.15\n",
    "\n",
    "#calculate the ideal cop\n",
    "cop_ideal=T_h/(T_h-T_c)"
   ]
  },
  {
   "cell_type": "code",
   "execution_count": 51,
   "metadata": {},
   "outputs": [],
   "source": [
    "#the efficiecy of a heat pump can be estimated to be between 50% and 60%\n",
    "#g_eff will store efficiences in the above range\n",
    "#calculate the real cop by accounting for the efficiency of the heat pump\n",
    "\n",
    "g_eff=range(50,61)\n",
    "cop_real=[]\n",
    "for i in g_eff:\n",
    "    cop_real.append((i/100)*cop_ideal)"
   ]
  },
  {
   "cell_type": "code",
   "execution_count": 66,
   "metadata": {},
   "outputs": [],
   "source": [
    "#since Q is known the heat pump electricity (hp_elec) can be calculated by using the cop_real\n",
    "hp_elec=[]\n",
    "for i in range(len(cop_real)):\n",
    "    hp_elec.append(Q_gwh/cop_real[i])"
   ]
  },
  {
   "cell_type": "code",
   "execution_count": 65,
   "metadata": {},
   "outputs": [],
   "source": [
    "#let's make a second scenario to compare to the above prediction of T_h and T_c\n",
    "#the same math will be done to obtain a set of hp_elec for the second scenario\n",
    "\n",
    "T_h2=150 \n",
    "T_h2=(T_h2-32)*5/9\n",
    "T_h2=T_h2+273.15\n",
    "\n",
    "T_c2=80\n",
    "T_c2=(T_c2-32)*5/9\n",
    "T_c2=T_c2+273.15\n",
    "\n",
    "cop_ideal2=T_h2/(T_h2-T_c2)\n",
    "\n",
    "g_eff2=range(50,61)\n",
    "cop_real2=[]\n",
    "for i in g_eff:\n",
    "    cop_real2.append((i/100)*cop_ideal2)\n",
    "    \n",
    "hp_elec2=[]\n",
    "for i in range(len(cop_real2)):\n",
    "    hp_elec2.append(Q_gwh/cop_real2[i])"
   ]
  },
  {
   "cell_type": "code",
   "execution_count": 68,
   "metadata": {},
   "outputs": [],
   "source": [
    "#calculate the difference between hp_elec and hp_elec2\n",
    "diff=[]\n",
    "for i in range(len(hp_elec)):\n",
    "    diff.append(hp_elec[i]-hp_elec2[i])"
   ]
  },
  {
   "cell_type": "code",
   "execution_count": 64,
   "metadata": {},
   "outputs": [],
   "source": [
    "#from the difference the cost benefit data can be calculated with the price of elec in $/kwh which will\n",
    "#then be converted to $/gwh. according to electricitylocal.com the average residential electricity rate \n",
    "#in Princeton is 14.88¢/kWh or 0.1488$/kwh\n",
    "\n",
    "elec_cost_dollar_pkWh=0.1488\n",
    "cost_diff=[]\n",
    "for i in range(len(diff)):\n",
    "    cost_diff.append((diff[i]*(1000000))*elec_cost_dollar_pkWh)"
   ]
  },
  {
   "cell_type": "code",
   "execution_count": 71,
   "metadata": {},
   "outputs": [
    {
     "data": {
      "text/plain": [
       "[<matplotlib.lines.Line2D at 0x7ffb41fe9430>]"
      ]
     },
     "execution_count": 71,
     "metadata": {},
     "output_type": "execute_result"
    },
    {
     "data": {
      "image/png": "[encoded data removed]",
      "text/plain": [
       "<Figure size 432x288 with 1 Axes>"
      ]
     },
     "metadata": {
      "needs_background": "light"
     },
     "output_type": "display_data"
    }
   ],
   "source": [
    "import matplotlib.pyplot as plt\n",
    "plt.plot(cost_diff)"
   ]
  }
 ],
 "metadata": {
  "kernelspec": {
   "display_name": "Python 3",
   "language": "python",
   "name": "python3"
  },
  "language_info": {
   "codemirror_mode": {
    "name": "ipython",
    "version": 3
   },
   "file_extension": ".py",
   "mimetype": "text/x-python",
   "name": "python",
   "nbconvert_exporter": "python",
   "pygments_lexer": "ipython3",
   "version": "3.8.3"
  }
 },
 "nbformat": 4,
 "nbformat_minor": 4
}
