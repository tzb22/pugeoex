{
 "cells": [
  {
   "cell_type": "code",
   "execution_count": 113,
   "metadata": {},
   "outputs": [],
   "source": [
    "#this code will calculate the estimated cop of geothermal test wells on princeton's campus\n",
    "#the Q_in of this program will be the amount of heat provided by a single geothermal well in the same time period as mentioned below\n",
    "#the W is the work required by the camopus or the electricity needed on campus from 9/10/19 at 5pm est to 9/12/19 at 5pm\n",
    "import sys\n",
    "sys.path\n",
    "import pandas as pd\n",
    "import pickle\n",
    "import numpy as np"
   ]
  },
  {
   "cell_type": "code",
   "execution_count": 114,
   "metadata": {},
   "outputs": [
    {
     "name": "stdout",
     "output_type": "stream",
     "text": [
      "               Time (UTC) Boilers.1.NGas_dthr Boilers.1.Oil_gpm  \\\n",
      "0    2019-09-01T04:00:00Z                None              None   \n",
      "1    2019-09-01T05:00:00Z                   0                 0   \n",
      "2    2019-09-01T06:00:00Z                   0                 0   \n",
      "3    2019-09-01T07:00:00Z                   0                 0   \n",
      "4    2019-09-01T08:00:00Z                   0                 0   \n",
      "..                    ...                 ...               ...   \n",
      "715  2019-09-30T23:00:00Z                   0                 0   \n",
      "716  2019-10-01T00:00:00Z                   0                 0   \n",
      "717  2019-10-01T01:00:00Z                   0                 0   \n",
      "718  2019-10-01T02:00:00Z                   0                 0   \n",
      "719  2019-10-01T03:00:00Z                   0                 0   \n",
      "\n",
      "    Boilers.2.NGas_dthr Boilers.2.Oil_gpm Chillers.i.Totals.ktons  \\\n",
      "0                  None              None                    None   \n",
      "1                     0                 0               3.2433421   \n",
      "2                     0                 0             3.208272961   \n",
      "3                     0                 0             3.155146452   \n",
      "4                     0                 0             3.052663451   \n",
      "..                  ...               ...                     ...   \n",
      "715         53.65600652                 0             4.517941155   \n",
      "716         52.65211702                 0             4.341908106   \n",
      "717         50.53697826                 0             4.199751723   \n",
      "718         49.92983778                 0             3.740467911   \n",
      "719         50.64184043                 0             3.472523037   \n",
      "\n",
      "    Cogen.DB_NGas_dthr Cogen.Turbine.NGas_dthr Cogen.Turbine.output_kW  \\\n",
      "0                 None                    None                    None   \n",
      "1          24.39809333             82.52956667             5974.539545   \n",
      "2          24.33151957             81.99275208             5973.439604   \n",
      "3          25.93758723             82.32406458             5971.105454   \n",
      "4          24.84761304             82.18749167             5972.292751   \n",
      "..                 ...                     ...                     ...   \n",
      "715                  0                       0                       0   \n",
      "716                  0                       0                       0   \n",
      "717                  0                       0                       0   \n",
      "718                  0                       0                       0   \n",
      "719                  0                       0                       0   \n",
      "\n",
      "    MicroTurbines.Total_kW Plant.i.Campus_STMF_kpph Plant.i.Total_STMF_kpph  \\\n",
      "0                     None                     None                    None   \n",
      "1              264.6122449              33.72571439                54.09213   \n",
      "2               265.755102              33.28434337             53.88236684   \n",
      "3                      265              34.97684218             55.11879676   \n",
      "4              265.2653061              35.14711143             54.14887919   \n",
      "..                     ...                      ...                     ...   \n",
      "715             265.244898              37.47206344             37.47206344   \n",
      "716            265.4130435              36.87272884             36.87272884   \n",
      "717            264.7111111              35.49303872             35.49303872   \n",
      "718            264.7173913              34.90567635             34.90567635   \n",
      "719            265.6938776              35.29022799             35.29022799   \n",
      "\n",
      "    Power.Charlton.Total_kW Power.ElmSub.Total_kW SMPL.SteamPress7041  \\\n",
      "0                      None                  None                None   \n",
      "1               8870.647745          -307.3296592         218.5965146   \n",
      "2               8772.278327          -310.6072143         218.7283408   \n",
      "3               8720.457635          -326.7059125         218.7832292   \n",
      "4               8702.842418          -327.0180122         218.8651809   \n",
      "..                      ...                   ...                 ...   \n",
      "715             11091.57472           5827.145304         209.0468388   \n",
      "716             10972.67853           5559.038965         208.8646574   \n",
      "717             10741.11907           5136.622377         208.8529444   \n",
      "718             10398.73836           4814.356985         208.8786191   \n",
      "719             10145.35933           4842.994435         208.8929938   \n",
      "\n",
      "    WestWindsor.PV_kW electricity.purchased_kW electricity.total_kW  \\\n",
      "0                None                     None                 None   \n",
      "1        -14.26315789              8563.318084          14788.24538   \n",
      "2        -14.53333333              8461.671108          14686.24591   \n",
      "3        -14.28571429              8393.751723          14615.73218   \n",
      "4                 -15                8375.8244          14598.38247   \n",
      "..                ...                      ...                  ...   \n",
      "715      -14.13333333              16918.72003          17169.92411   \n",
      "716      -14.16666667              16530.66495          16781.97745   \n",
      "717               -14              15877.74145           16128.4223   \n",
      "718            -14.25              15213.09534          15463.69109   \n",
      "719      -14.16666667              14988.35378          15239.96603   \n",
      "\n",
      "    natural_gas.total_dthr  \n",
      "0                     None  \n",
      "1              107.0796857  \n",
      "2              106.3481408  \n",
      "3              108.3015063  \n",
      "4              107.1595184  \n",
      "..                     ...  \n",
      "715            53.65600652  \n",
      "716            52.65211702  \n",
      "717            50.53697826  \n",
      "718            49.92983778  \n",
      "719            50.64184043  \n",
      "\n",
      "[720 rows x 19 columns]\n"
     ]
    }
   ],
   "source": [
    "\n",
    "#first W will be calculated by pulling the data from the campus-2019-9.csv file\n",
    "\n",
    "df_campus = pd.read_csv ('/Users/tajjahnae/chaos_project/campus-2019-9.csv')\n",
    "print(df_campus)"
   ]
  },
  {
   "cell_type": "code",
   "execution_count": 115,
   "metadata": {},
   "outputs": [
    {
     "name": "stdout",
     "output_type": "stream",
     "text": [
      "1013224.73684\n"
     ]
    }
   ],
   "source": [
    "#next a table will be created which slices the data from the electrcity\n",
    "#total column in campus_csv for the desired time period which is \n",
    "#rows 231 to 279. then the electricty needed will be totaled in kW\n",
    "elec_tot_pday=[]\n",
    "for i in range(229,278):\n",
    "    elec_tot_pday.append(df_campus.iat[i,17])\n",
    "for i in range(len(elec_tot_pday)):\n",
    "    elec_tot_pday[i]=float(elec_tot_pday[i])\n",
    "W_kw=sum(elec_tot_pday)\n",
    "print(W_kw)"
   ]
  },
  {
   "cell_type": "code",
   "execution_count": 116,
   "metadata": {},
   "outputs": [],
   "source": [
    "#now Q will be calculated  by pulling data from channel 3\n",
    "#hongshan's methodology in thermal conductivity will be used to pull data\n",
    "#first  import glob from: https://www.mathworks.com/matlabcentral/fileexchange/40149-expand-wildcards-for-files-and-directory-names?s_tid=mwa_osa_a\n",
    "import os\n",
    "from glob import glob"
   ]
  },
  {
   "cell_type": "code",
   "execution_count": 117,
   "metadata": {},
   "outputs": [],
   "source": [
    "s1 = 'pt0920/channel 1/2019/sep/'\n",
    "s2 = 'pt0920/channel 2/2019/sep/'\n",
    "s3 = 'pt0920/channel 3/2019/sep/'\n",
    "s4 = 'pt0920/channel 4/2019/sep/'\n",
    "s0 = '*00001.ddf'\n",
    "s = [s0,s1,s2,s3,s4]"
   ]
  },
  {
   "cell_type": "code",
   "execution_count": 118,
   "metadata": {},
   "outputs": [
    {
     "name": "stdout",
     "output_type": "stream",
     "text": [
      "[]\n",
      "pt0920/channel 1/2019/sep/*00001.ddf\n",
      "[]\n",
      "pt0920/channel 2/2019/sep/*00001.ddf\n",
      "[]\n",
      "pt0920/channel 3/2019/sep/*00001.ddf\n",
      "[]\n",
      "pt0920/channel 4/2019/sep/*00001.ddf\n"
     ]
    }
   ],
   "source": [
    "import bisect\n",
    "fl = []\n",
    "for i in s[1:]:\n",
    "    fi = glob(i+s0)\n",
    "    print(fi)\n",
    "    fi.sort()\n",
    "    ref1 = i + i[7:16] + ' 20190910 174000' + s0[1:]\n",
    "    ref2 = i + i[7:16] + ' 20190912 181000' + s0[1:]\n",
    "    fin = fi[bisect.bisect_right(fi,ref1):]\n",
    "    fnn = fin[:bisect.bisect_left(fin,ref2)]\n",
    "    fl.append(fnn)\n",
    "    print (i+s0)\n"
   ]
  },
  {
   "cell_type": "code",
   "execution_count": 119,
   "metadata": {},
   "outputs": [],
   "source": [
    "\n",
    "with open('/Users/tajjahnae/chaos_project/dts_trt_init-2/ins','rb') as f:\n",
    "    inss = pickle.load(f)\n",
    "insf = ['%.3f' % elem for elem in inss]\n",
    "\n"
   ]
  },
  {
   "cell_type": "code",
   "execution_count": 120,
   "metadata": {},
   "outputs": [],
   "source": [
    "f23 = fl[2]\n",
    "all3 = pd.DataFrame()\n",
    "for i in range(len(f23)):\n",
    "    fram = pd.read_csv(f23[i],header=25,sep='\\t',encoding= 'unicode_escape')\n",
    "    fram.set_axis(['depth','tempc','stokes','nonstokes'],axis=1,inplace=True)\n",
    "    DF = fram[fram['depth']>0]\n",
    "    DF = DF.set_index('depth')\n",
    "    DF = DF.transpose()\n",
    "    s = DF.iloc[0].astype(float)\n",
    "    s.name = str(f23[i])[-25:-25+8]+str(f23[i])[-25+9:-25+15]\n",
    "    all3 = all3.append(s)"
   ]
  },
  {
   "cell_type": "code",
   "execution_count": 121,
   "metadata": {},
   "outputs": [
    {
     "data": {
      "text/plain": [
       "[[], [], [], []]"
      ]
     },
     "execution_count": 121,
     "metadata": {},
     "output_type": "execute_result"
    }
   ],
   "source": [
    "fl"
   ]
  },
  {
   "cell_type": "code",
   "execution_count": null,
   "metadata": {},
   "outputs": [],
   "source": []
  },
  {
   "cell_type": "code",
   "execution_count": null,
   "metadata": {},
   "outputs": [],
   "source": []
  },
  {
   "cell_type": "code",
   "execution_count": null,
   "metadata": {},
   "outputs": [],
   "source": []
  }
 ],
 "metadata": {
  "kernelspec": {
   "display_name": "Python 3",
   "language": "python",
   "name": "python3"
  },
  "language_info": {
   "codemirror_mode": {
    "name": "ipython",
    "version": 3
   },
   "file_extension": ".py",
   "mimetype": "text/x-python",
   "name": "python",
   "nbconvert_exporter": "python",
   "pygments_lexer": "ipython3",
   "version": "3.8.3"
  }
 },
 "nbformat": 4,
 "nbformat_minor": 4
}
